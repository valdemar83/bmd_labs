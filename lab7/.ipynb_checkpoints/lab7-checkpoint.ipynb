{
 "cells": [
  {
   "cell_type": "code",
   "execution_count": 1,
   "metadata": {},
   "outputs": [],
   "source": [
    "from numpy.random import randint\n",
    "import matplotlib.pyplot as plt\n",
    "import scipy.stats as ss\n",
    "import seaborn as sns\n",
    "import pandas as pd\n",
    "import numpy as np\n",
    "import math"
   ]
  },
  {
   "cell_type": "markdown",
   "metadata": {},
   "source": [
    "Обрати реальні дані з kaggle або сгенерувати випадкові дані. \n",
    "\n",
    "Побудувати графік, що відображає розкид даних в групах."
   ]
  },
  {
   "cell_type": "code",
   "execution_count": 2,
   "metadata": {},
   "outputs": [
    {
     "data": {
      "text/html": [
       "<div>\n",
       "<style scoped>\n",
       "    .dataframe tbody tr th:only-of-type {\n",
       "        vertical-align: middle;\n",
       "    }\n",
       "\n",
       "    .dataframe tbody tr th {\n",
       "        vertical-align: top;\n",
       "    }\n",
       "\n",
       "    .dataframe thead th {\n",
       "        text-align: right;\n",
       "    }\n",
       "</style>\n",
       "<table border=\"1\" class=\"dataframe\">\n",
       "  <thead>\n",
       "    <tr style=\"text-align: right;\">\n",
       "      <th></th>\n",
       "      <th>data1</th>\n",
       "      <th>data2</th>\n",
       "    </tr>\n",
       "  </thead>\n",
       "  <tbody>\n",
       "    <tr>\n",
       "      <td>0</td>\n",
       "      <td>14</td>\n",
       "      <td>41</td>\n",
       "    </tr>\n",
       "    <tr>\n",
       "      <td>1</td>\n",
       "      <td>30</td>\n",
       "      <td>32</td>\n",
       "    </tr>\n",
       "    <tr>\n",
       "      <td>2</td>\n",
       "      <td>14</td>\n",
       "      <td>13</td>\n",
       "    </tr>\n",
       "    <tr>\n",
       "      <td>3</td>\n",
       "      <td>56</td>\n",
       "      <td>13</td>\n",
       "    </tr>\n",
       "    <tr>\n",
       "      <td>4</td>\n",
       "      <td>32</td>\n",
       "      <td>31</td>\n",
       "    </tr>\n",
       "    <tr>\n",
       "      <td>5</td>\n",
       "      <td>13</td>\n",
       "      <td>42</td>\n",
       "    </tr>\n",
       "    <tr>\n",
       "      <td>6</td>\n",
       "      <td>20</td>\n",
       "      <td>23</td>\n",
       "    </tr>\n",
       "    <tr>\n",
       "      <td>7</td>\n",
       "      <td>23</td>\n",
       "      <td>11</td>\n",
       "    </tr>\n",
       "    <tr>\n",
       "      <td>8</td>\n",
       "      <td>13</td>\n",
       "      <td>10</td>\n",
       "    </tr>\n",
       "    <tr>\n",
       "      <td>9</td>\n",
       "      <td>41</td>\n",
       "      <td>1</td>\n",
       "    </tr>\n",
       "    <tr>\n",
       "      <td>10</td>\n",
       "      <td>6</td>\n",
       "      <td>23</td>\n",
       "    </tr>\n",
       "    <tr>\n",
       "      <td>11</td>\n",
       "      <td>32</td>\n",
       "      <td>8</td>\n",
       "    </tr>\n",
       "    <tr>\n",
       "      <td>12</td>\n",
       "      <td>14</td>\n",
       "      <td>2</td>\n",
       "    </tr>\n",
       "    <tr>\n",
       "      <td>13</td>\n",
       "      <td>31</td>\n",
       "      <td>23</td>\n",
       "    </tr>\n",
       "    <tr>\n",
       "      <td>14</td>\n",
       "      <td>1</td>\n",
       "      <td>11</td>\n",
       "    </tr>\n",
       "  </tbody>\n",
       "</table>\n",
       "</div>"
      ],
      "text/plain": [
       "    data1  data2\n",
       "0      14     41\n",
       "1      30     32\n",
       "2      14     13\n",
       "3      56     13\n",
       "4      32     31\n",
       "5      13     42\n",
       "6      20     23\n",
       "7      23     11\n",
       "8      13     10\n",
       "9      41      1\n",
       "10      6     23\n",
       "11     32      8\n",
       "12     14      2\n",
       "13     31     23\n",
       "14      1     11"
      ]
     },
     "execution_count": 2,
     "metadata": {},
     "output_type": "execute_result"
    }
   ],
   "source": [
    "data1 = [14,30,14,56,32,13,20,23,13,41,6,32,14,31,1]\n",
    "data2 = [41,32,13,13,31,42,23,11,10,1,23,8,2,23,11]\n",
    "dnn = pd.DataFrame({\"data1\":data1,\n",
    "                    \"data2\":data2 })\n",
    "dnn"
   ]
  },
  {
   "cell_type": "code",
   "execution_count": 3,
   "metadata": {
    "scrolled": false
   },
   "outputs": [
    {
     "data": {
      "text/plain": [
       "[]"
      ]
     },
     "execution_count": 3,
     "metadata": {},
     "output_type": "execute_result"
    },
    {
     "data": {
      "image/png": "[encoded data removed]",
      "text/plain": [
       "<Figure size 432x288 with 1 Axes>"
      ]
     },
     "metadata": {
      "needs_background": "light"
     },
     "output_type": "display_data"
    }
   ],
   "source": [
    "sns.boxplot(data=dnn,palette='rainbow').set()"
   ]
  },
  {
   "cell_type": "markdown",
   "metadata": {},
   "source": [
    "для оцінки вімінностей дисперсій між групами за критерієм Лівеня. Функція має повертати значення тесту та результат оцінки рівності дисперсій (significant або not significant).\n",
    "\n",
    "для визначення відмінності між групами за критерієм Стьюдента в залежності від рівності/відмінності дисперсій. Функція має повертати значення критерію Стьюдента,значення ступеня свободи та результат оцінки значимості зв'зку (significant або not significant)."
   ]
  },
  {
   "cell_type": "code",
   "execution_count": 50,
   "metadata": {},
   "outputs": [],
   "source": [
    "def Liven(data1,data2):\n",
    "    import xlrd, xlwt\n",
    "    lenx=len(data1)\n",
    "    leny=len(data2)\n",
    "    \n",
    "\n",
    "    counter1=0\n",
    "    value1=(sum(data1))/lenx\n",
    "    for i in range (lenx):\n",
    "        counter1+=((data1[i]-value1))**2\n",
    "        \n",
    "    s1=counter1/(lenx-1)\n",
    "    \n",
    "    counter2=0\n",
    "    value2=(sum(data2))/leny\n",
    "    for i in range (leny):\n",
    "        counter2+=((data2[i]-value2))**2\n",
    "        \n",
    "    s2=counter2/(leny-1)\n",
    "    \n",
    "    \n",
    "\n",
    "    if s1>s2:\n",
    "        divide=s1/s2\n",
    "    else:\n",
    "        divide=s2/s1\n",
    "    print('Отримане значення критерію Лівеня : ' + str(divide))\n",
    "    stup1=lenx-1\n",
    "    stup2=leny-1\n",
    "    print('Значення ступенів свободи: ' + str(stup1) + \"; \" + str(stup2))\n",
    "    read = xlrd.open_workbook('Таблиця критичних значень для критерію Лівеня.xlsx')\n",
    "    sheet = read.sheet_by_index(0)\n",
    "    krit_val = sheet.row_values(stup1)[1]\n",
    "    print(\"Критичне значення критерію Лівеня: \",krit_val)\n",
    "    if divide<krit_val:\n",
    "        result = \" Pезультат оцінки значимості зв'зку: not significant\"\n",
    "    else:\n",
    "        result = \" Pезультат оцінки значимості зв'зку: significant\"\n",
    "    return result"
   ]
  },
  {
   "cell_type": "code",
   "execution_count": 51,
   "metadata": {},
   "outputs": [
    {
     "name": "stdout",
     "output_type": "stream",
     "text": [
      "Отримане значення критерію Лівеня : 1.218675001395323\n",
      "Значення ступенів свободи: 14; 14\n",
      "Критичне значення критерію Лівеня:  4.67\n"
     ]
    },
    {
     "data": {
      "text/plain": [
       "\" Pезультат оцінки значимості зв'зку: not significant\""
      ]
     },
     "execution_count": 51,
     "metadata": {},
     "output_type": "execute_result"
    }
   ],
   "source": [
    "Liven(data1,data2)\n"
   ]
  },
  {
   "cell_type": "code",
   "execution_count": 57,
   "metadata": {},
   "outputs": [],
   "source": [
    "def Student(data1, data2, result):   \n",
    "    \n",
    "    counter1 = 0\n",
    "    for i in range(len(data1)):\n",
    "        counter1 += data1[i]\n",
    "    M1 = counter1/len(data1)\n",
    "    \n",
    "    counter2 = 0\n",
    "    for i in range(len(data2)):\n",
    "        counter2 += data2[i]\n",
    "    M2 = counter2/len(data2)\n",
    "    \n",
    "    N1 = len(data2)\n",
    "    N2 = len(data1)\n",
    "    \n",
    "    q1 = np.std(data1)\n",
    "    q2 = np.std(data2)\n",
    "\n",
    "    q2_1 = q1**2\n",
    "    q2_2 = q2**2\n",
    "    \n",
    "    \n",
    "    if(result == \"not significant\"):\n",
    "        t = (abs(M1 - M2))/(math.sqrt((q2_1/N1)+((q2_2)/N2)))\n",
    "    else:\n",
    "        t = (abs(M1 - M2))/(math.sqrt(((((N1-1)*q2_1) + ((N2-1)*q2_2))*((1/N1)+(1/N2)))/(N1 + N2 - 2)))\n",
    "    print(\"--------------------------------------------------------\")     \n",
    "    print(\"Отримане значення критерію Стьюдента: t = \", t)\n",
    "    \n",
    "    df = N1 + N2 - 2\n",
    "    print(\"Ступінь свободи: df = \", df)\n",
    "    \n",
    "    \n",
    "    import xlrd, xlwt\n",
    "    read = xlrd.open_workbook('Таблиця критичних значень для критерію Стьюдента.xlsx')\n",
    "    sheet = read.sheet_by_index(0)\n",
    "    t_tabl = sheet.row_values(df)[1]\n",
    "    print(\"Критичне значення критерію Стюдента tкр = \", t_tabl)\n",
    "    \n",
    "    if(t>t_tabl):\n",
    "        result2 = \"significant\" \n",
    "    else:\n",
    "        result2 = \"not significant\" \n",
    "    print(\"Результат оцінки значимості зв'зку: \", result2)"
   ]
  },
  {
   "cell_type": "code",
   "execution_count": 58,
   "metadata": {},
   "outputs": [
    {
     "name": "stdout",
     "output_type": "stream",
     "text": [
      "--------------------------------------------------------\n",
      "Отримане значення критерію Стьюдента: t =  0.7691998074175093\n",
      "Ступінь свободи: df =  28\n",
      "Критичне значення критерію Стюдента tкр =  2.049\n",
      "Результат оцінки значимості зв'зку:  not significant\n"
     ]
    }
   ],
   "source": [
    "Student(data1, data2, \"not significant\")"
   ]
  }
 ],
 "metadata": {
  "kernelspec": {
   "display_name": "Python 3",
   "language": "python",
   "name": "python3"
  },
  "language_info": {
   "codemirror_mode": {
    "name": "ipython",
    "version": 3
   },
   "file_extension": ".py",
   "mimetype": "text/x-python",
   "name": "python",
   "nbconvert_exporter": "python",
   "pygments_lexer": "ipython3",
   "version": "3.7.4"
  }
 },
 "nbformat": 4,
 "nbformat_minor": 2
}
