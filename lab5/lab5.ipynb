{
 "cells": [
  {
   "cell_type": "code",
   "execution_count": 19,
   "metadata": {},
   "outputs": [],
   "source": [
    "import pandas as pd\n",
    "import scipy\n",
    "import seaborn as sns\n",
    "import matplotlib.pyplot as plt\n",
    "%matplotlib inline\n",
    "import numpy as np\n"
   ]
  },
  {
   "cell_type": "markdown",
   "metadata": {},
   "source": [
    "1. Обрати реальні дані з kaggle або сгенерувати випадкові дані, що містять розподіл деякої ознаки в двох групах."
   ]
  },
  {
   "cell_type": "code",
   "execution_count": 56,
   "metadata": {
    "scrolled": true
   },
   "outputs": [
    {
     "data": {
      "text/html": [
       "<div>\n",
       "<style scoped>\n",
       "    .dataframe tbody tr th:only-of-type {\n",
       "        vertical-align: middle;\n",
       "    }\n",
       "\n",
       "    .dataframe tbody tr th {\n",
       "        vertical-align: top;\n",
       "    }\n",
       "\n",
       "    .dataframe thead th {\n",
       "        text-align: right;\n",
       "    }\n",
       "</style>\n",
       "<table border=\"1\" class=\"dataframe\">\n",
       "  <thead>\n",
       "    <tr style=\"text-align: right;\">\n",
       "      <th></th>\n",
       "      <th>pointer</th>\n",
       "      <th>value</th>\n",
       "    </tr>\n",
       "  </thead>\n",
       "  <tbody>\n",
       "    <tr>\n",
       "      <td>0</td>\n",
       "      <td>11</td>\n",
       "      <td>1</td>\n",
       "    </tr>\n",
       "    <tr>\n",
       "      <td>1</td>\n",
       "      <td>22</td>\n",
       "      <td>1</td>\n",
       "    </tr>\n",
       "    <tr>\n",
       "      <td>2</td>\n",
       "      <td>22</td>\n",
       "      <td>2</td>\n",
       "    </tr>\n",
       "    <tr>\n",
       "      <td>3</td>\n",
       "      <td>11</td>\n",
       "      <td>1</td>\n",
       "    </tr>\n",
       "    <tr>\n",
       "      <td>4</td>\n",
       "      <td>11</td>\n",
       "      <td>1</td>\n",
       "    </tr>\n",
       "    <tr>\n",
       "      <td>5</td>\n",
       "      <td>11</td>\n",
       "      <td>1</td>\n",
       "    </tr>\n",
       "    <tr>\n",
       "      <td>6</td>\n",
       "      <td>11</td>\n",
       "      <td>2</td>\n",
       "    </tr>\n",
       "    <tr>\n",
       "      <td>7</td>\n",
       "      <td>22</td>\n",
       "      <td>2</td>\n",
       "    </tr>\n",
       "    <tr>\n",
       "      <td>8</td>\n",
       "      <td>11</td>\n",
       "      <td>2</td>\n",
       "    </tr>\n",
       "    <tr>\n",
       "      <td>9</td>\n",
       "      <td>22</td>\n",
       "      <td>2</td>\n",
       "    </tr>\n",
       "    <tr>\n",
       "      <td>10</td>\n",
       "      <td>11</td>\n",
       "      <td>1</td>\n",
       "    </tr>\n",
       "    <tr>\n",
       "      <td>11</td>\n",
       "      <td>22</td>\n",
       "      <td>2</td>\n",
       "    </tr>\n",
       "    <tr>\n",
       "      <td>12</td>\n",
       "      <td>22</td>\n",
       "      <td>1</td>\n",
       "    </tr>\n",
       "    <tr>\n",
       "      <td>13</td>\n",
       "      <td>22</td>\n",
       "      <td>1</td>\n",
       "    </tr>\n",
       "    <tr>\n",
       "      <td>14</td>\n",
       "      <td>11</td>\n",
       "      <td>2</td>\n",
       "    </tr>\n",
       "    <tr>\n",
       "      <td>15</td>\n",
       "      <td>22</td>\n",
       "      <td>1</td>\n",
       "    </tr>\n",
       "    <tr>\n",
       "      <td>16</td>\n",
       "      <td>11</td>\n",
       "      <td>1</td>\n",
       "    </tr>\n",
       "    <tr>\n",
       "      <td>17</td>\n",
       "      <td>11</td>\n",
       "      <td>2</td>\n",
       "    </tr>\n",
       "    <tr>\n",
       "      <td>18</td>\n",
       "      <td>22</td>\n",
       "      <td>2</td>\n",
       "    </tr>\n",
       "    <tr>\n",
       "      <td>19</td>\n",
       "      <td>22</td>\n",
       "      <td>1</td>\n",
       "    </tr>\n",
       "  </tbody>\n",
       "</table>\n",
       "</div>"
      ],
      "text/plain": [
       "    pointer  value\n",
       "0        11      1\n",
       "1        22      1\n",
       "2        22      2\n",
       "3        11      1\n",
       "4        11      1\n",
       "5        11      1\n",
       "6        11      2\n",
       "7        22      2\n",
       "8        11      2\n",
       "9        22      2\n",
       "10       11      1\n",
       "11       22      2\n",
       "12       22      1\n",
       "13       22      1\n",
       "14       11      2\n",
       "15       22      1\n",
       "16       11      1\n",
       "17       11      2\n",
       "18       22      2\n",
       "19       22      1"
      ]
     },
     "execution_count": 56,
     "metadata": {},
     "output_type": "execute_result"
    }
   ],
   "source": [
    "dnn = pd.DataFrame({'pointer' : [11,22,22,11,11,11,11,22,11,22,11,22,22,22,11,22,11,11,22,22],\n",
    "    'value' : [1,1,2,1,1,1,2,2,2,2,1,2,1,1,2,1,1,2,2,1]})\n",
    "dnn"
   ]
  },
  {
   "cell_type": "code",
   "execution_count": 57,
   "metadata": {},
   "outputs": [
    {
     "data": {
      "text/html": [
       "<div>\n",
       "<style scoped>\n",
       "    .dataframe tbody tr th:only-of-type {\n",
       "        vertical-align: middle;\n",
       "    }\n",
       "\n",
       "    .dataframe tbody tr th {\n",
       "        vertical-align: top;\n",
       "    }\n",
       "\n",
       "    .dataframe thead th {\n",
       "        text-align: right;\n",
       "    }\n",
       "</style>\n",
       "<table border=\"1\" class=\"dataframe\">\n",
       "  <thead>\n",
       "    <tr style=\"text-align: right;\">\n",
       "      <th>value</th>\n",
       "      <th>1</th>\n",
       "      <th>2</th>\n",
       "    </tr>\n",
       "    <tr>\n",
       "      <th>pointer</th>\n",
       "      <th></th>\n",
       "      <th></th>\n",
       "    </tr>\n",
       "  </thead>\n",
       "  <tbody>\n",
       "    <tr>\n",
       "      <td>11</td>\n",
       "      <td>6</td>\n",
       "      <td>4</td>\n",
       "    </tr>\n",
       "    <tr>\n",
       "      <td>22</td>\n",
       "      <td>5</td>\n",
       "      <td>5</td>\n",
       "    </tr>\n",
       "  </tbody>\n",
       "</table>\n",
       "</div>"
      ],
      "text/plain": [
       "value    1  2\n",
       "pointer      \n",
       "11       6  4\n",
       "22       5  5"
      ]
     },
     "execution_count": 57,
     "metadata": {},
     "output_type": "execute_result"
    }
   ],
   "source": [
    "k = pd.crosstab(dnn['pointer'], dnn['value'])\n",
    "k"
   ]
  },
  {
   "cell_type": "markdown",
   "metadata": {},
   "source": [
    "2. Побудувати графік, що відображає розподіл ознак в групах."
   ]
  },
  {
   "cell_type": "code",
   "execution_count": 63,
   "metadata": {},
   "outputs": [
    {
     "data": {
      "image/png": "[encoded data removed]",
      "text/plain": [
       "<Figure size 432x216 with 2 Axes>"
      ]
     },
     "metadata": {
      "needs_background": "light"
     },
     "output_type": "display_data"
    }
   ],
   "source": [
    "fig = sns.FacetGrid(dnn, col=\"pointer\")\n",
    "fig = fig.map(plt.hist, \"value\");"
   ]
  },
  {
   "cell_type": "code",
   "execution_count": 89,
   "metadata": {},
   "outputs": [],
   "source": [
    "def pirson(data, significant_level):\n",
    "    \n",
    "    t1 = []\n",
    "    for i in data.iloc[:,0]: \n",
    "        b1 = True\n",
    "        for j in t1:\n",
    "            if(i == j):\n",
    "                b1 = False\n",
    "        if(b1):\n",
    "            t1.append(i)\n",
    "            \n",
    "    t2 = []\n",
    "    for i in data.iloc[:,1]:\n",
    "        b1 = True\n",
    "        for j in t2:\n",
    "            if(i == j):\n",
    "                b1 = False\n",
    "        if(b1):\n",
    "            t2.append(i)\n",
    "            \n",
    "    t1 = np.sort(t1)\n",
    "    t2 = np.sort(t2)\n",
    "    \n",
    "    pirson = pd.DataFrame({\n",
    "        (t2[0]):(0 for i in range(len(t1))),\n",
    "        (t2[1]):(0 for i in range(len(t1))),\n",
    "    }, index = t1)\n",
    "    for i in range(len(data)):\n",
    "        pirson[data.iloc[i,1]][data.iloc[i,0]] += 1\n",
    "        \n",
    "    print(pirson)\n",
    "    if (sum(pirson.iloc[:,0]) != sum(pirson.iloc[:,1])):\n",
    "        pirson[pirson.columns[1]] = [x/sum(pirson.iloc[:,1])*sum(pirson.iloc[:,0]) for x in pirson.iloc[:,1]]\n",
    "    pirson[\"ni - ni'\"] = [(pirson.iloc[i,0] - pirson.iloc[i,1]) for i in range(len(pirson))]\n",
    "    pirson[\"(ni - ni')^2/(ni')\"] = [pirson.iloc[i,2]**2/pirson.iloc[i,1] for i in range(len(pirson))]\n",
    "    \n",
    "    print()\n",
    "    print(\"Таблиця спряженості\")\n",
    "    print(pirson)\n",
    "    \n",
    "    ksi = sum(pirson.iloc[:,3])\n",
    "    print()\n",
    "    print(\"X^2: \" + str(ksi))\n",
    "    print(\"Ступені свободи: \" + str(len(pirson)-1))\n",
    "    \n",
    "    crit = pd.read_excel(\"Таблиця критичних значень для критерію Пірсона.xlsx\").iloc[len(pirson)-1, 1 if(significant_level == 0.01) else 2]\n",
    "    print(\"X^2 критичне: \" + str(crit))\n",
    "    return \"Розбіжність відсутня: %.2f \"%ksi+\"< %.1f \"%crit if (ksi < crit) else \"Розбіжність присутня: %.2f\"%ksi+\"> %.1f \"%crit"
   ]
  },
  {
   "cell_type": "code",
   "execution_count": 90,
   "metadata": {},
   "outputs": [
    {
     "name": "stdout",
     "output_type": "stream",
     "text": [
      "    1  2\n",
      "11  6  4\n",
      "22  5  5\n",
      "\n",
      "Таблиця спряженості\n",
      "    1         2  ni - ni'  (ni - ni')^2/(ni')\n",
      "11  6  4.888889  1.111111            0.252525\n",
      "22  5  6.111111 -1.111111            0.202020\n",
      "\n",
      "X^2: 0.4545454545454549\n",
      "Ступені свободи: 1\n",
      "X^2 критичне: 6.6\n"
     ]
    },
    {
     "data": {
      "text/plain": [
       "'Розбіжність відсутня: 0.45 < 6.6 '"
      ]
     },
     "execution_count": 90,
     "metadata": {},
     "output_type": "execute_result"
    }
   ],
   "source": [
    "pirson(dnn, 0.01)"
   ]
  },
  {
   "cell_type": "code",
   "execution_count": 85,
   "metadata": {},
   "outputs": [
    {
     "name": "stdout",
     "output_type": "stream",
     "text": [
      "Таблиця спряженості\n",
      "    1  2\n",
      "11  6  4\n",
      "22  5  5\n",
      "\n",
      "Таблиця спряженості\n",
      "    1         2  ni - ni'  (ni - ni')^2/(ni')\n",
      "11  6  4.888889  1.111111            0.252525\n",
      "22  5  6.111111 -1.111111            0.202020\n",
      "\n",
      "X^2: 0.4545454545454549\n",
      "Ступені свободи: 1\n",
      "X^2 критичне: 3.8\n"
     ]
    },
    {
     "data": {
      "text/plain": [
       "'Розбіжність відсутня: 0.455 (дані)< 3.8 (критичне)'"
      ]
     },
     "execution_count": 85,
     "metadata": {},
     "output_type": "execute_result"
    }
   ],
   "source": [
    "pirson(dnn, 0.05)"
   ]
  },
  {
   "cell_type": "markdown",
   "metadata": {},
   "source": [
    "3. Додати до таблиці стовбчики з відсотовим розподілом по градаціям всередині груп. Окремо вивести результати роботи критерію (чи є статистична розбіжність між групами)."
   ]
  },
  {
   "cell_type": "code",
   "execution_count": 79,
   "metadata": {},
   "outputs": [
    {
     "name": "stdout",
     "output_type": "stream",
     "text": [
      "0.5454545454545454\n",
      "0.4444444444444444\n",
      "0.45454545454545453\n",
      "0.5555555555555556\n"
     ]
    }
   ],
   "source": [
    "val11_1 = str((6/11))\n",
    "print(val11_1)\n",
    "val11_2 = str((4/9))\n",
    "print(val11_2)\n",
    "val22_1 = str((5/11))\n",
    "print(val22_1)\n",
    "val22_2 = str((5/9))\n",
    "print(val22_2)"
   ]
  },
  {
   "cell_type": "code",
   "execution_count": 80,
   "metadata": {
    "scrolled": true
   },
   "outputs": [
    {
     "data": {
      "text/html": [
       "<div>\n",
       "<style scoped>\n",
       "    .dataframe tbody tr th:only-of-type {\n",
       "        vertical-align: middle;\n",
       "    }\n",
       "\n",
       "    .dataframe tbody tr th {\n",
       "        vertical-align: top;\n",
       "    }\n",
       "\n",
       "    .dataframe thead th {\n",
       "        text-align: right;\n",
       "    }\n",
       "</style>\n",
       "<table border=\"1\" class=\"dataframe\">\n",
       "  <thead>\n",
       "    <tr style=\"text-align: right;\">\n",
       "      <th></th>\n",
       "      <th>pointer 11</th>\n",
       "      <th>pointer 22</th>\n",
       "      <th>value 1</th>\n",
       "      <th>value 2</th>\n",
       "    </tr>\n",
       "  </thead>\n",
       "  <tbody>\n",
       "    <tr>\n",
       "      <td>pointer11</td>\n",
       "      <td>6</td>\n",
       "      <td>4</td>\n",
       "      <td>0.545455</td>\n",
       "      <td>0.454545</td>\n",
       "    </tr>\n",
       "    <tr>\n",
       "      <td>pointer22</td>\n",
       "      <td>5</td>\n",
       "      <td>5</td>\n",
       "      <td>0.444444</td>\n",
       "      <td>0.555556</td>\n",
       "    </tr>\n",
       "  </tbody>\n",
       "</table>\n",
       "</div>"
      ],
      "text/plain": [
       "           pointer 11  pointer 22   value 1   value 2\n",
       "pointer11           6           4  0.545455  0.454545\n",
       "pointer22           5           5  0.444444  0.555556"
      ]
     },
     "execution_count": 80,
     "metadata": {},
     "output_type": "execute_result"
    }
   ],
   "source": [
    "d = {'pointer 11': [6,5], 'pointer 22': [4,5], 'value 1': [0.5454545454545454,0.4444444444444444], \n",
    "     'value 2': [0.45454545454545453,0.5555555555555556]}\n",
    "new_df = pd.DataFrame(data=d,index = [\"pointer11\",\"pointer22\"])\n",
    "new_df"
   ]
  }
 ],
 "metadata": {
  "kernelspec": {
   "display_name": "Python 3",
   "language": "python",
   "name": "python3"
  },
  "language_info": {
   "codemirror_mode": {
    "name": "ipython",
    "version": 3
   },
   "file_extension": ".py",
   "mimetype": "text/x-python",
   "name": "python",
   "nbconvert_exporter": "python",
   "pygments_lexer": "ipython3",
   "version": "3.7.4"
  }
 },
 "nbformat": 4,
 "nbformat_minor": 2
}
