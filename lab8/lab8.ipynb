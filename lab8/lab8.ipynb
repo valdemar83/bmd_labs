{
 "cells": [
  {
   "cell_type": "code",
   "execution_count": 186,
   "metadata": {},
   "outputs": [],
   "source": [
    "import seaborn as sns\n",
    "import pandas as pd\n",
    "import numpy as np\n",
    "import math"
   ]
  },
  {
   "cell_type": "markdown",
   "metadata": {},
   "source": [
    "1. Розрахувати та вивести у вигляді таблиці статистичні характиристики даних (середні та стандартні відхилення для кожної з груп)."
   ]
  },
  {
   "cell_type": "code",
   "execution_count": 338,
   "metadata": {},
   "outputs": [
    {
     "data": {
      "text/html": [
       "<div>\n",
       "<style scoped>\n",
       "    .dataframe tbody tr th:only-of-type {\n",
       "        vertical-align: middle;\n",
       "    }\n",
       "\n",
       "    .dataframe tbody tr th {\n",
       "        vertical-align: top;\n",
       "    }\n",
       "\n",
       "    .dataframe thead th {\n",
       "        text-align: right;\n",
       "    }\n",
       "</style>\n",
       "<table border=\"1\" class=\"dataframe\">\n",
       "  <thead>\n",
       "    <tr style=\"text-align: right;\">\n",
       "      <th></th>\n",
       "      <th>n</th>\n",
       "      <th>Group 1:</th>\n",
       "      <th>Group 2:</th>\n",
       "      <th>Group 3:</th>\n",
       "    </tr>\n",
       "  </thead>\n",
       "  <tbody>\n",
       "    <tr>\n",
       "      <td>0</td>\n",
       "      <td>1</td>\n",
       "      <td>13</td>\n",
       "      <td>10</td>\n",
       "      <td>4</td>\n",
       "    </tr>\n",
       "    <tr>\n",
       "      <td>1</td>\n",
       "      <td>2</td>\n",
       "      <td>11</td>\n",
       "      <td>10</td>\n",
       "      <td>9</td>\n",
       "    </tr>\n",
       "    <tr>\n",
       "      <td>2</td>\n",
       "      <td>3</td>\n",
       "      <td>9</td>\n",
       "      <td>8</td>\n",
       "      <td>6</td>\n",
       "    </tr>\n",
       "    <tr>\n",
       "      <td>3</td>\n",
       "      <td>4</td>\n",
       "      <td>7</td>\n",
       "      <td>7</td>\n",
       "      <td>7</td>\n",
       "    </tr>\n",
       "    <tr>\n",
       "      <td>4</td>\n",
       "      <td>5</td>\n",
       "      <td>10</td>\n",
       "      <td>9</td>\n",
       "      <td>5</td>\n",
       "    </tr>\n",
       "    <tr>\n",
       "      <td>5</td>\n",
       "      <td>6</td>\n",
       "      <td>12</td>\n",
       "      <td>6</td>\n",
       "      <td>8</td>\n",
       "    </tr>\n",
       "  </tbody>\n",
       "</table>\n",
       "</div>"
      ],
      "text/plain": [
       "   n  Group 1:   Group 2:   Group 3: \n",
       "0  1         13         10          4\n",
       "1  2         11         10          9\n",
       "2  3          9          8          6\n",
       "3  4          7          7          7\n",
       "4  5         10          9          5\n",
       "5  6         12          6          8"
      ]
     },
     "execution_count": 338,
     "metadata": {},
     "output_type": "execute_result"
    }
   ],
   "source": [
    "df = pd.DataFrame({\n",
    "    \"n\":[1,2,3,4,5,6],\n",
    "    \"Group 1: \":[13, 11, 9, 7, 10, 12],\n",
    "    \"Group 2: \": [10, 10, 8, 7, 9, 6],\n",
    "    \"Group 3: \": [4, 9, 6, 7, 5, 8]\n",
    "})\n",
    "n = df.shape[0]\n",
    "\n",
    "df"
   ]
  },
  {
   "cell_type": "code",
   "execution_count": 339,
   "metadata": {},
   "outputs": [
    {
     "data": {
      "text/html": [
       "<div>\n",
       "<style scoped>\n",
       "    .dataframe tbody tr th:only-of-type {\n",
       "        vertical-align: middle;\n",
       "    }\n",
       "\n",
       "    .dataframe tbody tr th {\n",
       "        vertical-align: top;\n",
       "    }\n",
       "\n",
       "    .dataframe thead th {\n",
       "        text-align: right;\n",
       "    }\n",
       "</style>\n",
       "<table border=\"1\" class=\"dataframe\">\n",
       "  <thead>\n",
       "    <tr style=\"text-align: right;\">\n",
       "      <th></th>\n",
       "      <th>Group:</th>\n",
       "      <th>Group 1:</th>\n",
       "      <th>Group 2:</th>\n",
       "      <th>Group 3:</th>\n",
       "    </tr>\n",
       "  </thead>\n",
       "  <tbody>\n",
       "    <tr>\n",
       "      <td>0</td>\n",
       "      <td>Average deviation:</td>\n",
       "      <td>10.333333</td>\n",
       "      <td>8.333333</td>\n",
       "      <td>6.500000</td>\n",
       "    </tr>\n",
       "    <tr>\n",
       "      <td>1</td>\n",
       "      <td>Standart deviation:</td>\n",
       "      <td>2.160247</td>\n",
       "      <td>1.632993</td>\n",
       "      <td>1.870829</td>\n",
       "    </tr>\n",
       "  </tbody>\n",
       "</table>\n",
       "</div>"
      ],
      "text/plain": [
       "                 Group:  Group 1:   Group 2:   Group 3: \n",
       "0   Average deviation:   10.333333   8.333333   6.500000\n",
       "1  Standart deviation:    2.160247   1.632993   1.870829"
      ]
     },
     "execution_count": 339,
     "metadata": {},
     "output_type": "execute_result"
    }
   ],
   "source": [
    "df_deviation = pd.DataFrame({\n",
    "    \"Group:\": [\"Average deviation: \",\"Standart deviation: \"],\n",
    "    \"Group 1: \":[sum(df.iloc[:,1]/n), df.iloc[:,1].std()],\n",
    "    \"Group 2: \":[sum(df.iloc[:,2]/n), df.iloc[:,2].std()],\n",
    "    \"Group 3: \":[sum(df.iloc[:,3]/n), df.iloc[:,3].std()]\n",
    "})\n",
    "df_deviation"
   ]
  },
  {
   "cell_type": "markdown",
   "metadata": {},
   "source": [
    "2. Побудувати графік розкиду в групах."
   ]
  },
  {
   "cell_type": "code",
   "execution_count": 340,
   "metadata": {},
   "outputs": [
    {
     "data": {
      "text/plain": [
       "[]"
      ]
     },
     "execution_count": 340,
     "metadata": {},
     "output_type": "execute_result"
    },
    {
     "data": {
      "image/png": "[encoded data removed]",
      "text/plain": [
       "<Figure size 432x288 with 1 Axes>"
      ]
     },
     "metadata": {
      "needs_background": "light"
     },
     "output_type": "display_data"
    }
   ],
   "source": [
    "sns.boxplot(data=df).set()"
   ]
  },
  {
   "cell_type": "code",
   "execution_count": 341,
   "metadata": {},
   "outputs": [
    {
     "data": {
      "text/html": [
       "<div>\n",
       "<style scoped>\n",
       "    .dataframe tbody tr th:only-of-type {\n",
       "        vertical-align: middle;\n",
       "    }\n",
       "\n",
       "    .dataframe tbody tr th {\n",
       "        vertical-align: top;\n",
       "    }\n",
       "\n",
       "    .dataframe thead th {\n",
       "        text-align: right;\n",
       "    }\n",
       "</style>\n",
       "<table border=\"1\" class=\"dataframe\">\n",
       "  <thead>\n",
       "    <tr style=\"text-align: right;\">\n",
       "      <th></th>\n",
       "      <th>n</th>\n",
       "      <th>Group 1:</th>\n",
       "      <th>Group 2:</th>\n",
       "      <th>Group 3:</th>\n",
       "    </tr>\n",
       "  </thead>\n",
       "  <tbody>\n",
       "    <tr>\n",
       "      <td>0</td>\n",
       "      <td>1</td>\n",
       "      <td>13.000000</td>\n",
       "      <td>10.000000</td>\n",
       "      <td>4.0</td>\n",
       "    </tr>\n",
       "    <tr>\n",
       "      <td>1</td>\n",
       "      <td>2</td>\n",
       "      <td>11.000000</td>\n",
       "      <td>10.000000</td>\n",
       "      <td>9.0</td>\n",
       "    </tr>\n",
       "    <tr>\n",
       "      <td>2</td>\n",
       "      <td>3</td>\n",
       "      <td>9.000000</td>\n",
       "      <td>8.000000</td>\n",
       "      <td>6.0</td>\n",
       "    </tr>\n",
       "    <tr>\n",
       "      <td>3</td>\n",
       "      <td>4</td>\n",
       "      <td>7.000000</td>\n",
       "      <td>7.000000</td>\n",
       "      <td>7.0</td>\n",
       "    </tr>\n",
       "    <tr>\n",
       "      <td>4</td>\n",
       "      <td>5</td>\n",
       "      <td>10.000000</td>\n",
       "      <td>9.000000</td>\n",
       "      <td>5.0</td>\n",
       "    </tr>\n",
       "    <tr>\n",
       "      <td>5</td>\n",
       "      <td>6</td>\n",
       "      <td>12.000000</td>\n",
       "      <td>6.000000</td>\n",
       "      <td>8.0</td>\n",
       "    </tr>\n",
       "    <tr>\n",
       "      <td>7</td>\n",
       "      <td>Sum:</td>\n",
       "      <td>62.000000</td>\n",
       "      <td>50.000000</td>\n",
       "      <td>39.0</td>\n",
       "    </tr>\n",
       "    <tr>\n",
       "      <td>8</td>\n",
       "      <td>Average:</td>\n",
       "      <td>10.333333</td>\n",
       "      <td>8.333333</td>\n",
       "      <td>6.5</td>\n",
       "    </tr>\n",
       "  </tbody>\n",
       "</table>\n",
       "</div>"
      ],
      "text/plain": [
       "           n  Group 1:   Group 2:   Group 3: \n",
       "0          1  13.000000  10.000000        4.0\n",
       "1          2  11.000000  10.000000        9.0\n",
       "2          3   9.000000   8.000000        6.0\n",
       "3          4   7.000000   7.000000        7.0\n",
       "4          5  10.000000   9.000000        5.0\n",
       "5          6  12.000000   6.000000        8.0\n",
       "7      Sum:   62.000000  50.000000       39.0\n",
       "8  Average:   10.333333   8.333333        6.5"
      ]
     },
     "execution_count": 341,
     "metadata": {},
     "output_type": "execute_result"
    }
   ],
   "source": [
    "df.loc[df.shape[0]+1] = [\"Sum: \",sum(df.iloc[:,1]), sum(df.iloc[:,2]), sum(df.iloc[:,3])]\n",
    "df.loc[df.shape[0]+1] = [\"Average: \", (df.iloc[n,1]/n), (df.iloc[n,2]/n), (df.iloc[n,3]/n)]\n",
    "n = df.shape[0]\n",
    "df"
   ]
  },
  {
   "cell_type": "code",
   "execution_count": 342,
   "metadata": {
    "scrolled": true
   },
   "outputs": [
    {
     "name": "stdout",
     "output_type": "stream",
     "text": [
      "General Sum:  151.0\n"
     ]
    }
   ],
   "source": [
    "Summ = sum(df.iloc[n-2, 1:])\n",
    "print(\"General Sum: \", Summ)"
   ]
  },
  {
   "cell_type": "markdown",
   "metadata": {},
   "source": [
    "3. Побудувати функцію, що реалізовує однофакторний дисперсійний аналіз."
   ]
  },
  {
   "cell_type": "code",
   "execution_count": 343,
   "metadata": {},
   "outputs": [],
   "source": [
    "def dispers_analiz(df, n):  \n",
    "    \n",
    "    G1_sum = df.iloc[n-2,1]\n",
    "    G2_sum = df.iloc[n-2,2]\n",
    "    G3_sum = df.iloc[n-2,3]\n",
    "    c = df.shape[1]-1\n",
    "    n = df.shape[0]-2\n",
    "    N = n*c\n",
    "    \n",
    "    Tc2 = G1_sum**2 + G2_sum**2 + G3_sum**2\n",
    "    Summ = sum(df.iloc[n, 1:])**2\n",
    "    const = Summ/N\n",
    "    \n",
    "    xi2 = 0\n",
    "    for i in range(0, n):\n",
    "        xi2 += df.iloc[i, 1]**2\n",
    "    for i in range(0, n):\n",
    "        xi2 += df.iloc[i, 2]**2\n",
    "    for i in range(0, n):\n",
    "        xi2 += df.iloc[i, 3]**2\n",
    "    \n",
    "    SSfact = Tc2/n - const\n",
    "    SSzag = xi2 - Summ/N\n",
    "    SSvip = SSzag - SSfact\n",
    "    \n",
    "    dfact = c - 1\n",
    "    dzag = N - 1\n",
    "    dvip = dzag - dfact\n",
    "    \n",
    "    MSfact = SSfact/dfact\n",
    "    MSvip = SSvip/dvip\n",
    "    Femp = MSfact/MSvip\n",
    "    Fcrit = pd.read_excel(\"Fisher.xlsx\").iloc[dzag-2, dfact]\n",
    "    if (Fcrit >= Femp):\n",
    "        print(\"The equality of the averages is confirmed:\", Fcrit, \">\", Femp)\n",
    "    else:\n",
    "        print(\"The equality of the averages is not confirmed:\", Fcrit, \"<\", Femp)\n",
    "    \n",
    "    tabl = pd.DataFrame({\n",
    "        \"Type: \":[\"InFact: \", \"Random: \", \"Average: \"],\n",
    "        \"SS\":[SSfact, SSvip, SSzag],\n",
    "        \"d\":[dfact, dvip, dzag],\n",
    "        \"MS\":[MSfact, MSvip, \"-\"]\n",
    "    })\n",
    "    return tabl\n"
   ]
  },
  {
   "cell_type": "markdown",
   "metadata": {},
   "source": [
    "4. Вивести результати розрахунку кожного з етапів вказаних вище у вигляді таблиці.\n",
    "5. Перевірити результат роботи функції на реальних або сгенерованих даних. Зробити висновок."
   ]
  },
  {
   "cell_type": "code",
   "execution_count": 344,
   "metadata": {
    "scrolled": false
   },
   "outputs": [
    {
     "name": "stdout",
     "output_type": "stream",
     "text": [
      "The equality of the averages is not confirmed: 3.68 < 6.107692307692296\n"
     ]
    },
    {
     "data": {
      "text/html": [
       "<div>\n",
       "<style scoped>\n",
       "    .dataframe tbody tr th:only-of-type {\n",
       "        vertical-align: middle;\n",
       "    }\n",
       "\n",
       "    .dataframe tbody tr th {\n",
       "        vertical-align: top;\n",
       "    }\n",
       "\n",
       "    .dataframe thead th {\n",
       "        text-align: right;\n",
       "    }\n",
       "</style>\n",
       "<table border=\"1\" class=\"dataframe\">\n",
       "  <thead>\n",
       "    <tr style=\"text-align: right;\">\n",
       "      <th></th>\n",
       "      <th>Type:</th>\n",
       "      <th>SS</th>\n",
       "      <th>d</th>\n",
       "      <th>MS</th>\n",
       "    </tr>\n",
       "  </thead>\n",
       "  <tbody>\n",
       "    <tr>\n",
       "      <td>0</td>\n",
       "      <td>InFact:</td>\n",
       "      <td>44.111111</td>\n",
       "      <td>2</td>\n",
       "      <td>22.0556</td>\n",
       "    </tr>\n",
       "    <tr>\n",
       "      <td>1</td>\n",
       "      <td>Random:</td>\n",
       "      <td>54.166667</td>\n",
       "      <td>15</td>\n",
       "      <td>3.61111</td>\n",
       "    </tr>\n",
       "    <tr>\n",
       "      <td>2</td>\n",
       "      <td>Average:</td>\n",
       "      <td>98.277778</td>\n",
       "      <td>17</td>\n",
       "      <td>-</td>\n",
       "    </tr>\n",
       "  </tbody>\n",
       "</table>\n",
       "</div>"
      ],
      "text/plain": [
       "      Type:          SS   d       MS\n",
       "0   InFact:   44.111111   2  22.0556\n",
       "1   Random:   54.166667  15  3.61111\n",
       "2  Average:   98.277778  17        -"
      ]
     },
     "execution_count": 344,
     "metadata": {},
     "output_type": "execute_result"
    }
   ],
   "source": [
    "dispers_analiz(df, n)"
   ]
  },
  {
   "cell_type": "code",
   "execution_count": null,
   "metadata": {},
   "outputs": [],
   "source": []
  }
 ],
 "metadata": {
  "kernelspec": {
   "display_name": "Python 3",
   "language": "python",
   "name": "python3"
  },
  "language_info": {
   "codemirror_mode": {
    "name": "ipython",
    "version": 3
   },
   "file_extension": ".py",
   "mimetype": "text/x-python",
   "name": "python",
   "nbconvert_exporter": "python",
   "pygments_lexer": "ipython3",
   "version": "3.7.4"
  }
 },
 "nbformat": 4,
 "nbformat_minor": 2
}
